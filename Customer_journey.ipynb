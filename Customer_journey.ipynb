{
 "cells": [
  {
   "cell_type": "code",
   "execution_count": 1,
   "id": "934bb83d-5463-49a4-a85a-e253fde1ddef",
   "metadata": {},
   "outputs": [],
   "source": [
    "import pandas as pd"
   ]
  },
  {
   "cell_type": "code",
   "execution_count": 2,
   "id": "dbfc6e5d-5fbb-4417-b465-f5c8cffb8431",
   "metadata": {},
   "outputs": [
    {
     "data": {
      "text/plain": [
       "(4011, 7)"
      ]
     },
     "execution_count": 2,
     "metadata": {},
     "output_type": "execute_result"
    }
   ],
   "source": [
    "customer_journey_df = pd.read_excel(\"customer_journey.xlsx\")\n",
    "customer_journey_df.shape"
   ]
  },
  {
   "cell_type": "code",
   "execution_count": 3,
   "id": "fa92333a-1ddc-461d-81cb-c116c9a00419",
   "metadata": {},
   "outputs": [
    {
     "data": {
      "text/plain": [
       "JourneyID              int64\n",
       "CustomerID             int64\n",
       "ProductId              int64\n",
       "VisitDate     datetime64[ns]\n",
       "Stage                 object\n",
       "Action                object\n",
       "Duration             float64\n",
       "dtype: object"
      ]
     },
     "execution_count": 3,
     "metadata": {},
     "output_type": "execute_result"
    }
   ],
   "source": [
    "customer_journey_df.dtypes"
   ]
  },
  {
   "cell_type": "code",
   "execution_count": 4,
   "id": "2ee0a99f-6cd8-4407-b488-72d2478e1416",
   "metadata": {},
   "outputs": [
    {
     "data": {
      "text/plain": [
       "71"
      ]
     },
     "execution_count": 4,
     "metadata": {},
     "output_type": "execute_result"
    }
   ],
   "source": [
    "customer_journey_df.duplicated().sum()"
   ]
  },
  {
   "cell_type": "code",
   "execution_count": 5,
   "id": "ecaf52df-8bb1-4959-a20b-6004117b6810",
   "metadata": {},
   "outputs": [
    {
     "data": {
      "text/html": [
       "<div>\n",
       "<style scoped>\n",
       "    .dataframe tbody tr th:only-of-type {\n",
       "        vertical-align: middle;\n",
       "    }\n",
       "\n",
       "    .dataframe tbody tr th {\n",
       "        vertical-align: top;\n",
       "    }\n",
       "\n",
       "    .dataframe thead th {\n",
       "        text-align: right;\n",
       "    }\n",
       "</style>\n",
       "<table border=\"1\" class=\"dataframe\">\n",
       "  <thead>\n",
       "    <tr style=\"text-align: right;\">\n",
       "      <th></th>\n",
       "      <th>JourneyID</th>\n",
       "      <th>CustomerID</th>\n",
       "      <th>ProductId</th>\n",
       "      <th>VisitDate</th>\n",
       "      <th>Stage</th>\n",
       "      <th>Action</th>\n",
       "      <th>Duration</th>\n",
       "    </tr>\n",
       "  </thead>\n",
       "  <tbody>\n",
       "    <tr>\n",
       "      <th>3993</th>\n",
       "      <td>23</td>\n",
       "      <td>58</td>\n",
       "      <td>1</td>\n",
       "      <td>2023-07-05</td>\n",
       "      <td>Homepage</td>\n",
       "      <td>View</td>\n",
       "      <td>48.0</td>\n",
       "    </tr>\n",
       "    <tr>\n",
       "      <th>3939</th>\n",
       "      <td>203</td>\n",
       "      <td>44</td>\n",
       "      <td>11</td>\n",
       "      <td>2024-12-28</td>\n",
       "      <td>Homepage</td>\n",
       "      <td>View</td>\n",
       "      <td>230.0</td>\n",
       "    </tr>\n",
       "    <tr>\n",
       "      <th>3940</th>\n",
       "      <td>404</td>\n",
       "      <td>30</td>\n",
       "      <td>13</td>\n",
       "      <td>2023-04-22</td>\n",
       "      <td>Homepage</td>\n",
       "      <td>View</td>\n",
       "      <td>112.0</td>\n",
       "    </tr>\n",
       "    <tr>\n",
       "      <th>3979</th>\n",
       "      <td>443</td>\n",
       "      <td>98</td>\n",
       "      <td>5</td>\n",
       "      <td>2023-09-04</td>\n",
       "      <td>Checkout</td>\n",
       "      <td>Drop-off</td>\n",
       "      <td>NaN</td>\n",
       "    </tr>\n",
       "    <tr>\n",
       "      <th>3995</th>\n",
       "      <td>494</td>\n",
       "      <td>29</td>\n",
       "      <td>6</td>\n",
       "      <td>2024-10-27</td>\n",
       "      <td>Checkout</td>\n",
       "      <td>Drop-off</td>\n",
       "      <td>NaN</td>\n",
       "    </tr>\n",
       "    <tr>\n",
       "      <th>...</th>\n",
       "      <td>...</td>\n",
       "      <td>...</td>\n",
       "      <td>...</td>\n",
       "      <td>...</td>\n",
       "      <td>...</td>\n",
       "      <td>...</td>\n",
       "      <td>...</td>\n",
       "    </tr>\n",
       "    <tr>\n",
       "      <th>3967</th>\n",
       "      <td>3781</td>\n",
       "      <td>54</td>\n",
       "      <td>8</td>\n",
       "      <td>2025-04-14</td>\n",
       "      <td>Homepage</td>\n",
       "      <td>View</td>\n",
       "      <td>250.0</td>\n",
       "    </tr>\n",
       "    <tr>\n",
       "      <th>3983</th>\n",
       "      <td>3852</td>\n",
       "      <td>99</td>\n",
       "      <td>5</td>\n",
       "      <td>2025-09-07</td>\n",
       "      <td>ProductPage</td>\n",
       "      <td>View</td>\n",
       "      <td>205.0</td>\n",
       "    </tr>\n",
       "    <tr>\n",
       "      <th>3941</th>\n",
       "      <td>3881</td>\n",
       "      <td>58</td>\n",
       "      <td>18</td>\n",
       "      <td>2024-08-27</td>\n",
       "      <td>Checkout</td>\n",
       "      <td>Drop-off</td>\n",
       "      <td>NaN</td>\n",
       "    </tr>\n",
       "    <tr>\n",
       "      <th>3938</th>\n",
       "      <td>3912</td>\n",
       "      <td>99</td>\n",
       "      <td>9</td>\n",
       "      <td>2025-06-13</td>\n",
       "      <td>Homepage</td>\n",
       "      <td>Click</td>\n",
       "      <td>143.0</td>\n",
       "    </tr>\n",
       "    <tr>\n",
       "      <th>3957</th>\n",
       "      <td>3930</td>\n",
       "      <td>2</td>\n",
       "      <td>9</td>\n",
       "      <td>2024-09-22</td>\n",
       "      <td>Homepage</td>\n",
       "      <td>Click</td>\n",
       "      <td>260.0</td>\n",
       "    </tr>\n",
       "  </tbody>\n",
       "</table>\n",
       "<p>71 rows × 7 columns</p>\n",
       "</div>"
      ],
      "text/plain": [
       "      JourneyID  CustomerID  ProductId  VisitDate        Stage    Action  \\\n",
       "3993         23          58          1 2023-07-05     Homepage      View   \n",
       "3939        203          44         11 2024-12-28     Homepage      View   \n",
       "3940        404          30         13 2023-04-22     Homepage      View   \n",
       "3979        443          98          5 2023-09-04     Checkout  Drop-off   \n",
       "3995        494          29          6 2024-10-27     Checkout  Drop-off   \n",
       "...         ...         ...        ...        ...          ...       ...   \n",
       "3967       3781          54          8 2025-04-14     Homepage      View   \n",
       "3983       3852          99          5 2025-09-07  ProductPage      View   \n",
       "3941       3881          58         18 2024-08-27     Checkout  Drop-off   \n",
       "3938       3912          99          9 2025-06-13     Homepage     Click   \n",
       "3957       3930           2          9 2024-09-22     Homepage     Click   \n",
       "\n",
       "      Duration  \n",
       "3993      48.0  \n",
       "3939     230.0  \n",
       "3940     112.0  \n",
       "3979       NaN  \n",
       "3995       NaN  \n",
       "...        ...  \n",
       "3967     250.0  \n",
       "3983     205.0  \n",
       "3941       NaN  \n",
       "3938     143.0  \n",
       "3957     260.0  \n",
       "\n",
       "[71 rows x 7 columns]"
      ]
     },
     "execution_count": 5,
     "metadata": {},
     "output_type": "execute_result"
    }
   ],
   "source": [
    "customer_journey_df[customer_journey_df.duplicated()].sort_values(by=\"JourneyID\")"
   ]
  },
  {
   "cell_type": "code",
   "execution_count": 6,
   "id": "18d509d7-8284-49ab-9e11-f527bbe0b485",
   "metadata": {},
   "outputs": [],
   "source": [
    "customer_journey_df.drop_duplicates(keep=\"first\" , inplace=True)"
   ]
  },
  {
   "cell_type": "code",
   "execution_count": 7,
   "id": "a2f5c803-10e8-4ff6-b31a-76335e2347e9",
   "metadata": {},
   "outputs": [
    {
     "data": {
      "text/plain": [
       "JourneyID       0\n",
       "CustomerID      0\n",
       "ProductId       0\n",
       "VisitDate       0\n",
       "Stage           0\n",
       "Action          0\n",
       "Duration      599\n",
       "dtype: int64"
      ]
     },
     "execution_count": 7,
     "metadata": {},
     "output_type": "execute_result"
    }
   ],
   "source": [
    "customer_journey_df.isna().sum()"
   ]
  },
  {
   "cell_type": "code",
   "execution_count": 8,
   "id": "f562b070-94e2-4093-9b93-364e84bfe1ee",
   "metadata": {},
   "outputs": [],
   "source": [
    "# Convert VisitDate to datetime and Duration to numeric\n",
    "customer_journey_df['VisitDate'] = pd.to_datetime(customer_journey_df['VisitDate'], errors='coerce')\n",
    "customer_journey_df['Duration'] = pd.to_numeric(customer_journey_df['Duration'], errors='coerce')"
   ]
  },
  {
   "cell_type": "code",
   "execution_count": 9,
   "id": "3dda351a-48d7-41ec-8eb9-70fbd5cc022e",
   "metadata": {},
   "outputs": [
    {
     "data": {
      "text/html": [
       "<div>\n",
       "<style scoped>\n",
       "    .dataframe tbody tr th:only-of-type {\n",
       "        vertical-align: middle;\n",
       "    }\n",
       "\n",
       "    .dataframe tbody tr th {\n",
       "        vertical-align: top;\n",
       "    }\n",
       "\n",
       "    .dataframe thead th {\n",
       "        text-align: right;\n",
       "    }\n",
       "</style>\n",
       "<table border=\"1\" class=\"dataframe\">\n",
       "  <thead>\n",
       "    <tr style=\"text-align: right;\">\n",
       "      <th></th>\n",
       "      <th>JourneyID</th>\n",
       "      <th>CustomerID</th>\n",
       "      <th>ProductId</th>\n",
       "      <th>VisitDate</th>\n",
       "      <th>Stage</th>\n",
       "      <th>Action</th>\n",
       "      <th>Duration</th>\n",
       "    </tr>\n",
       "  </thead>\n",
       "  <tbody>\n",
       "    <tr>\n",
       "      <th>0</th>\n",
       "      <td>1</td>\n",
       "      <td>64</td>\n",
       "      <td>18</td>\n",
       "      <td>2024-06-10</td>\n",
       "      <td>Checkout</td>\n",
       "      <td>Drop-off</td>\n",
       "      <td>NaN</td>\n",
       "    </tr>\n",
       "    <tr>\n",
       "      <th>1</th>\n",
       "      <td>2</td>\n",
       "      <td>94</td>\n",
       "      <td>11</td>\n",
       "      <td>2025-07-09</td>\n",
       "      <td>Checkout</td>\n",
       "      <td>Drop-off</td>\n",
       "      <td>NaN</td>\n",
       "    </tr>\n",
       "    <tr>\n",
       "      <th>2</th>\n",
       "      <td>3</td>\n",
       "      <td>34</td>\n",
       "      <td>8</td>\n",
       "      <td>2024-06-14</td>\n",
       "      <td>ProductPage</td>\n",
       "      <td>View</td>\n",
       "      <td>235.0</td>\n",
       "    </tr>\n",
       "    <tr>\n",
       "      <th>3</th>\n",
       "      <td>4</td>\n",
       "      <td>33</td>\n",
       "      <td>18</td>\n",
       "      <td>2025-05-28</td>\n",
       "      <td>Checkout</td>\n",
       "      <td>Drop-off</td>\n",
       "      <td>NaN</td>\n",
       "    </tr>\n",
       "    <tr>\n",
       "      <th>4</th>\n",
       "      <td>5</td>\n",
       "      <td>91</td>\n",
       "      <td>10</td>\n",
       "      <td>2023-02-11</td>\n",
       "      <td>Homepage</td>\n",
       "      <td>Click</td>\n",
       "      <td>156.0</td>\n",
       "    </tr>\n",
       "    <tr>\n",
       "      <th>...</th>\n",
       "      <td>...</td>\n",
       "      <td>...</td>\n",
       "      <td>...</td>\n",
       "      <td>...</td>\n",
       "      <td>...</td>\n",
       "      <td>...</td>\n",
       "      <td>...</td>\n",
       "    </tr>\n",
       "    <tr>\n",
       "      <th>3984</th>\n",
       "      <td>2655</td>\n",
       "      <td>84</td>\n",
       "      <td>4</td>\n",
       "      <td>2023-10-09</td>\n",
       "      <td>Homepage</td>\n",
       "      <td>View</td>\n",
       "      <td>146.0</td>\n",
       "    </tr>\n",
       "    <tr>\n",
       "      <th>3991</th>\n",
       "      <td>2653</td>\n",
       "      <td>86</td>\n",
       "      <td>2</td>\n",
       "      <td>2023-06-08</td>\n",
       "      <td>productpage</td>\n",
       "      <td>Click</td>\n",
       "      <td>247.0</td>\n",
       "    </tr>\n",
       "    <tr>\n",
       "      <th>3997</th>\n",
       "      <td>97</td>\n",
       "      <td>92</td>\n",
       "      <td>19</td>\n",
       "      <td>2025-05-26</td>\n",
       "      <td>Homepage</td>\n",
       "      <td>View</td>\n",
       "      <td>203.0</td>\n",
       "    </tr>\n",
       "    <tr>\n",
       "      <th>4005</th>\n",
       "      <td>3531</td>\n",
       "      <td>70</td>\n",
       "      <td>5</td>\n",
       "      <td>2025-08-04</td>\n",
       "      <td>checkout</td>\n",
       "      <td>Drop-off</td>\n",
       "      <td>NaN</td>\n",
       "    </tr>\n",
       "    <tr>\n",
       "      <th>4007</th>\n",
       "      <td>1248</td>\n",
       "      <td>17</td>\n",
       "      <td>8</td>\n",
       "      <td>2023-12-13</td>\n",
       "      <td>homepage</td>\n",
       "      <td>Click</td>\n",
       "      <td>153.0</td>\n",
       "    </tr>\n",
       "  </tbody>\n",
       "</table>\n",
       "<p>3940 rows × 7 columns</p>\n",
       "</div>"
      ],
      "text/plain": [
       "      JourneyID  CustomerID  ProductId  VisitDate        Stage    Action  \\\n",
       "0             1          64         18 2024-06-10     Checkout  Drop-off   \n",
       "1             2          94         11 2025-07-09     Checkout  Drop-off   \n",
       "2             3          34          8 2024-06-14  ProductPage      View   \n",
       "3             4          33         18 2025-05-28     Checkout  Drop-off   \n",
       "4             5          91         10 2023-02-11     Homepage     Click   \n",
       "...         ...         ...        ...        ...          ...       ...   \n",
       "3984       2655          84          4 2023-10-09     Homepage      View   \n",
       "3991       2653          86          2 2023-06-08  productpage     Click   \n",
       "3997         97          92         19 2025-05-26     Homepage      View   \n",
       "4005       3531          70          5 2025-08-04     checkout  Drop-off   \n",
       "4007       1248          17          8 2023-12-13     homepage     Click   \n",
       "\n",
       "      Duration  \n",
       "0          NaN  \n",
       "1          NaN  \n",
       "2        235.0  \n",
       "3          NaN  \n",
       "4        156.0  \n",
       "...        ...  \n",
       "3984     146.0  \n",
       "3991     247.0  \n",
       "3997     203.0  \n",
       "4005       NaN  \n",
       "4007     153.0  \n",
       "\n",
       "[3940 rows x 7 columns]"
      ]
     },
     "execution_count": 9,
     "metadata": {},
     "output_type": "execute_result"
    }
   ],
   "source": [
    "customer_journey_df"
   ]
  },
  {
   "cell_type": "code",
   "execution_count": 10,
   "id": "db1cb04d-cc93-46a4-ac90-63c6e5ee2275",
   "metadata": {},
   "outputs": [
    {
     "data": {
      "text/plain": [
       "0       132.333333\n",
       "1       169.250000\n",
       "2       184.250000\n",
       "3        12.000000\n",
       "4       104.600000\n",
       "           ...    \n",
       "3984    147.000000\n",
       "3991    214.000000\n",
       "3997    162.000000\n",
       "4005    203.000000\n",
       "4007    141.250000\n",
       "Name: Duration, Length: 3940, dtype: float64"
      ]
     },
     "execution_count": 10,
     "metadata": {},
     "output_type": "execute_result"
    }
   ],
   "source": [
    "# it calculates the average duration and fill against each group occurance\n",
    "customer_journey_df.groupby('VisitDate')['Duration'].transform('mean')"
   ]
  },
  {
   "cell_type": "code",
   "execution_count": 11,
   "id": "f025027c-6e52-4904-aa03-0a2a288e90e7",
   "metadata": {},
   "outputs": [],
   "source": [
    "# Step 4: Replace missing Duration values with the average for each VisitDate\n",
    "customer_journey_df['avg_duration'] = customer_journey_df.groupby('VisitDate')['Duration'].transform(\"mean\")\n",
    "customer_journey_df['avg_duration'] = customer_journey_df['Duration'].fillna(customer_journey_df['avg_duration'])"
   ]
  },
  {
   "cell_type": "code",
   "execution_count": 12,
   "id": "a60d1a67-61db-40f3-bfb5-cb83c8196cc7",
   "metadata": {},
   "outputs": [],
   "source": [
    "# Step 5: Convert Stage to uppercase for consistency\n",
    "customer_journey_df['Stage'] = customer_journey_df['Stage'].str.upper()"
   ]
  },
  {
   "cell_type": "code",
   "execution_count": 13,
   "id": "b03cc48d-873a-4e52-b20a-f55e7461978f",
   "metadata": {},
   "outputs": [
    {
     "data": {
      "text/html": [
       "<div>\n",
       "<style scoped>\n",
       "    .dataframe tbody tr th:only-of-type {\n",
       "        vertical-align: middle;\n",
       "    }\n",
       "\n",
       "    .dataframe tbody tr th {\n",
       "        vertical-align: top;\n",
       "    }\n",
       "\n",
       "    .dataframe thead th {\n",
       "        text-align: right;\n",
       "    }\n",
       "</style>\n",
       "<table border=\"1\" class=\"dataframe\">\n",
       "  <thead>\n",
       "    <tr style=\"text-align: right;\">\n",
       "      <th></th>\n",
       "      <th>JourneyID</th>\n",
       "      <th>CustomerID</th>\n",
       "      <th>ProductId</th>\n",
       "      <th>VisitDate</th>\n",
       "      <th>Stage</th>\n",
       "      <th>Action</th>\n",
       "      <th>Duration</th>\n",
       "      <th>avg_duration</th>\n",
       "    </tr>\n",
       "  </thead>\n",
       "  <tbody>\n",
       "    <tr>\n",
       "      <th>0</th>\n",
       "      <td>1</td>\n",
       "      <td>64</td>\n",
       "      <td>18</td>\n",
       "      <td>2024-06-10</td>\n",
       "      <td>CHECKOUT</td>\n",
       "      <td>Drop-off</td>\n",
       "      <td>NaN</td>\n",
       "      <td>132.333333</td>\n",
       "    </tr>\n",
       "    <tr>\n",
       "      <th>1</th>\n",
       "      <td>2</td>\n",
       "      <td>94</td>\n",
       "      <td>11</td>\n",
       "      <td>2025-07-09</td>\n",
       "      <td>CHECKOUT</td>\n",
       "      <td>Drop-off</td>\n",
       "      <td>NaN</td>\n",
       "      <td>169.250000</td>\n",
       "    </tr>\n",
       "    <tr>\n",
       "      <th>2</th>\n",
       "      <td>3</td>\n",
       "      <td>34</td>\n",
       "      <td>8</td>\n",
       "      <td>2024-06-14</td>\n",
       "      <td>PRODUCTPAGE</td>\n",
       "      <td>View</td>\n",
       "      <td>235.0</td>\n",
       "      <td>235.000000</td>\n",
       "    </tr>\n",
       "    <tr>\n",
       "      <th>3</th>\n",
       "      <td>4</td>\n",
       "      <td>33</td>\n",
       "      <td>18</td>\n",
       "      <td>2025-05-28</td>\n",
       "      <td>CHECKOUT</td>\n",
       "      <td>Drop-off</td>\n",
       "      <td>NaN</td>\n",
       "      <td>12.000000</td>\n",
       "    </tr>\n",
       "    <tr>\n",
       "      <th>4</th>\n",
       "      <td>5</td>\n",
       "      <td>91</td>\n",
       "      <td>10</td>\n",
       "      <td>2023-02-11</td>\n",
       "      <td>HOMEPAGE</td>\n",
       "      <td>Click</td>\n",
       "      <td>156.0</td>\n",
       "      <td>156.000000</td>\n",
       "    </tr>\n",
       "    <tr>\n",
       "      <th>...</th>\n",
       "      <td>...</td>\n",
       "      <td>...</td>\n",
       "      <td>...</td>\n",
       "      <td>...</td>\n",
       "      <td>...</td>\n",
       "      <td>...</td>\n",
       "      <td>...</td>\n",
       "      <td>...</td>\n",
       "    </tr>\n",
       "    <tr>\n",
       "      <th>3984</th>\n",
       "      <td>2655</td>\n",
       "      <td>84</td>\n",
       "      <td>4</td>\n",
       "      <td>2023-10-09</td>\n",
       "      <td>HOMEPAGE</td>\n",
       "      <td>View</td>\n",
       "      <td>146.0</td>\n",
       "      <td>146.000000</td>\n",
       "    </tr>\n",
       "    <tr>\n",
       "      <th>3991</th>\n",
       "      <td>2653</td>\n",
       "      <td>86</td>\n",
       "      <td>2</td>\n",
       "      <td>2023-06-08</td>\n",
       "      <td>PRODUCTPAGE</td>\n",
       "      <td>Click</td>\n",
       "      <td>247.0</td>\n",
       "      <td>247.000000</td>\n",
       "    </tr>\n",
       "    <tr>\n",
       "      <th>3997</th>\n",
       "      <td>97</td>\n",
       "      <td>92</td>\n",
       "      <td>19</td>\n",
       "      <td>2025-05-26</td>\n",
       "      <td>HOMEPAGE</td>\n",
       "      <td>View</td>\n",
       "      <td>203.0</td>\n",
       "      <td>203.000000</td>\n",
       "    </tr>\n",
       "    <tr>\n",
       "      <th>4005</th>\n",
       "      <td>3531</td>\n",
       "      <td>70</td>\n",
       "      <td>5</td>\n",
       "      <td>2025-08-04</td>\n",
       "      <td>CHECKOUT</td>\n",
       "      <td>Drop-off</td>\n",
       "      <td>NaN</td>\n",
       "      <td>203.000000</td>\n",
       "    </tr>\n",
       "    <tr>\n",
       "      <th>4007</th>\n",
       "      <td>1248</td>\n",
       "      <td>17</td>\n",
       "      <td>8</td>\n",
       "      <td>2023-12-13</td>\n",
       "      <td>HOMEPAGE</td>\n",
       "      <td>Click</td>\n",
       "      <td>153.0</td>\n",
       "      <td>153.000000</td>\n",
       "    </tr>\n",
       "  </tbody>\n",
       "</table>\n",
       "<p>3940 rows × 8 columns</p>\n",
       "</div>"
      ],
      "text/plain": [
       "      JourneyID  CustomerID  ProductId  VisitDate        Stage    Action  \\\n",
       "0             1          64         18 2024-06-10     CHECKOUT  Drop-off   \n",
       "1             2          94         11 2025-07-09     CHECKOUT  Drop-off   \n",
       "2             3          34          8 2024-06-14  PRODUCTPAGE      View   \n",
       "3             4          33         18 2025-05-28     CHECKOUT  Drop-off   \n",
       "4             5          91         10 2023-02-11     HOMEPAGE     Click   \n",
       "...         ...         ...        ...        ...          ...       ...   \n",
       "3984       2655          84          4 2023-10-09     HOMEPAGE      View   \n",
       "3991       2653          86          2 2023-06-08  PRODUCTPAGE     Click   \n",
       "3997         97          92         19 2025-05-26     HOMEPAGE      View   \n",
       "4005       3531          70          5 2025-08-04     CHECKOUT  Drop-off   \n",
       "4007       1248          17          8 2023-12-13     HOMEPAGE     Click   \n",
       "\n",
       "      Duration  avg_duration  \n",
       "0          NaN    132.333333  \n",
       "1          NaN    169.250000  \n",
       "2        235.0    235.000000  \n",
       "3          NaN     12.000000  \n",
       "4        156.0    156.000000  \n",
       "...        ...           ...  \n",
       "3984     146.0    146.000000  \n",
       "3991     247.0    247.000000  \n",
       "3997     203.0    203.000000  \n",
       "4005       NaN    203.000000  \n",
       "4007     153.0    153.000000  \n",
       "\n",
       "[3940 rows x 8 columns]"
      ]
     },
     "execution_count": 13,
     "metadata": {},
     "output_type": "execute_result"
    }
   ],
   "source": [
    "customer_journey_df"
   ]
  },
  {
   "cell_type": "code",
   "execution_count": 14,
   "id": "5edffc89-014f-446f-b48e-64224403d0bb",
   "metadata": {},
   "outputs": [],
   "source": [
    "# Drop intermediate columns\n",
    "customer_journey_df = customer_journey_df.drop(columns=['avg_duration'],axis=1)"
   ]
  },
  {
   "cell_type": "code",
   "execution_count": 15,
   "id": "c6d963d2-5800-408a-9284-9a5ce820ab14",
   "metadata": {},
   "outputs": [],
   "source": [
    "# Save or display the cleaned dataset\n",
    "customer_journey_df.to_csv('cleaned_customer_journey.csv', index=False)"
   ]
  },
  {
   "cell_type": "code",
   "execution_count": 16,
   "id": "c29cb307-1cae-4e23-b75d-92a8b9e05115",
   "metadata": {},
   "outputs": [
    {
     "data": {
      "text/html": [
       "<div>\n",
       "<style scoped>\n",
       "    .dataframe tbody tr th:only-of-type {\n",
       "        vertical-align: middle;\n",
       "    }\n",
       "\n",
       "    .dataframe tbody tr th {\n",
       "        vertical-align: top;\n",
       "    }\n",
       "\n",
       "    .dataframe thead th {\n",
       "        text-align: right;\n",
       "    }\n",
       "</style>\n",
       "<table border=\"1\" class=\"dataframe\">\n",
       "  <thead>\n",
       "    <tr style=\"text-align: right;\">\n",
       "      <th></th>\n",
       "      <th>JourneyID</th>\n",
       "      <th>CustomerID</th>\n",
       "      <th>ProductId</th>\n",
       "      <th>VisitDate</th>\n",
       "      <th>Stage</th>\n",
       "      <th>Action</th>\n",
       "      <th>Duration</th>\n",
       "    </tr>\n",
       "  </thead>\n",
       "  <tbody>\n",
       "    <tr>\n",
       "      <th>0</th>\n",
       "      <td>1</td>\n",
       "      <td>64</td>\n",
       "      <td>18</td>\n",
       "      <td>2024-06-10</td>\n",
       "      <td>CHECKOUT</td>\n",
       "      <td>Drop-off</td>\n",
       "      <td>NaN</td>\n",
       "    </tr>\n",
       "    <tr>\n",
       "      <th>1</th>\n",
       "      <td>2</td>\n",
       "      <td>94</td>\n",
       "      <td>11</td>\n",
       "      <td>2025-07-09</td>\n",
       "      <td>CHECKOUT</td>\n",
       "      <td>Drop-off</td>\n",
       "      <td>NaN</td>\n",
       "    </tr>\n",
       "    <tr>\n",
       "      <th>2</th>\n",
       "      <td>3</td>\n",
       "      <td>34</td>\n",
       "      <td>8</td>\n",
       "      <td>2024-06-14</td>\n",
       "      <td>PRODUCTPAGE</td>\n",
       "      <td>View</td>\n",
       "      <td>235.0</td>\n",
       "    </tr>\n",
       "    <tr>\n",
       "      <th>3</th>\n",
       "      <td>4</td>\n",
       "      <td>33</td>\n",
       "      <td>18</td>\n",
       "      <td>2025-05-28</td>\n",
       "      <td>CHECKOUT</td>\n",
       "      <td>Drop-off</td>\n",
       "      <td>NaN</td>\n",
       "    </tr>\n",
       "    <tr>\n",
       "      <th>4</th>\n",
       "      <td>5</td>\n",
       "      <td>91</td>\n",
       "      <td>10</td>\n",
       "      <td>2023-02-11</td>\n",
       "      <td>HOMEPAGE</td>\n",
       "      <td>Click</td>\n",
       "      <td>156.0</td>\n",
       "    </tr>\n",
       "    <tr>\n",
       "      <th>...</th>\n",
       "      <td>...</td>\n",
       "      <td>...</td>\n",
       "      <td>...</td>\n",
       "      <td>...</td>\n",
       "      <td>...</td>\n",
       "      <td>...</td>\n",
       "      <td>...</td>\n",
       "    </tr>\n",
       "    <tr>\n",
       "      <th>3984</th>\n",
       "      <td>2655</td>\n",
       "      <td>84</td>\n",
       "      <td>4</td>\n",
       "      <td>2023-10-09</td>\n",
       "      <td>HOMEPAGE</td>\n",
       "      <td>View</td>\n",
       "      <td>146.0</td>\n",
       "    </tr>\n",
       "    <tr>\n",
       "      <th>3991</th>\n",
       "      <td>2653</td>\n",
       "      <td>86</td>\n",
       "      <td>2</td>\n",
       "      <td>2023-06-08</td>\n",
       "      <td>PRODUCTPAGE</td>\n",
       "      <td>Click</td>\n",
       "      <td>247.0</td>\n",
       "    </tr>\n",
       "    <tr>\n",
       "      <th>3997</th>\n",
       "      <td>97</td>\n",
       "      <td>92</td>\n",
       "      <td>19</td>\n",
       "      <td>2025-05-26</td>\n",
       "      <td>HOMEPAGE</td>\n",
       "      <td>View</td>\n",
       "      <td>203.0</td>\n",
       "    </tr>\n",
       "    <tr>\n",
       "      <th>4005</th>\n",
       "      <td>3531</td>\n",
       "      <td>70</td>\n",
       "      <td>5</td>\n",
       "      <td>2025-08-04</td>\n",
       "      <td>CHECKOUT</td>\n",
       "      <td>Drop-off</td>\n",
       "      <td>NaN</td>\n",
       "    </tr>\n",
       "    <tr>\n",
       "      <th>4007</th>\n",
       "      <td>1248</td>\n",
       "      <td>17</td>\n",
       "      <td>8</td>\n",
       "      <td>2023-12-13</td>\n",
       "      <td>HOMEPAGE</td>\n",
       "      <td>Click</td>\n",
       "      <td>153.0</td>\n",
       "    </tr>\n",
       "  </tbody>\n",
       "</table>\n",
       "<p>3940 rows × 7 columns</p>\n",
       "</div>"
      ],
      "text/plain": [
       "      JourneyID  CustomerID  ProductId  VisitDate        Stage    Action  \\\n",
       "0             1          64         18 2024-06-10     CHECKOUT  Drop-off   \n",
       "1             2          94         11 2025-07-09     CHECKOUT  Drop-off   \n",
       "2             3          34          8 2024-06-14  PRODUCTPAGE      View   \n",
       "3             4          33         18 2025-05-28     CHECKOUT  Drop-off   \n",
       "4             5          91         10 2023-02-11     HOMEPAGE     Click   \n",
       "...         ...         ...        ...        ...          ...       ...   \n",
       "3984       2655          84          4 2023-10-09     HOMEPAGE      View   \n",
       "3991       2653          86          2 2023-06-08  PRODUCTPAGE     Click   \n",
       "3997         97          92         19 2025-05-26     HOMEPAGE      View   \n",
       "4005       3531          70          5 2025-08-04     CHECKOUT  Drop-off   \n",
       "4007       1248          17          8 2023-12-13     HOMEPAGE     Click   \n",
       "\n",
       "      Duration  \n",
       "0          NaN  \n",
       "1          NaN  \n",
       "2        235.0  \n",
       "3          NaN  \n",
       "4        156.0  \n",
       "...        ...  \n",
       "3984     146.0  \n",
       "3991     247.0  \n",
       "3997     203.0  \n",
       "4005       NaN  \n",
       "4007     153.0  \n",
       "\n",
       "[3940 rows x 7 columns]"
      ]
     },
     "execution_count": 16,
     "metadata": {},
     "output_type": "execute_result"
    }
   ],
   "source": [
    "customer_journey_df"
   ]
  },
  {
   "cell_type": "code",
   "execution_count": 17,
   "id": "cedcad35-567d-43d1-a012-5c27a40d2e91",
   "metadata": {},
   "outputs": [
    {
     "name": "stdout",
     "output_type": "stream",
     "text": [
      "<class 'pandas.core.frame.DataFrame'>\n",
      "Index: 3940 entries, 0 to 4007\n",
      "Data columns (total 7 columns):\n",
      " #   Column      Non-Null Count  Dtype         \n",
      "---  ------      --------------  -----         \n",
      " 0   JourneyID   3940 non-null   int64         \n",
      " 1   CustomerID  3940 non-null   int64         \n",
      " 2   ProductId   3940 non-null   int64         \n",
      " 3   VisitDate   3940 non-null   datetime64[ns]\n",
      " 4   Stage       3940 non-null   object        \n",
      " 5   Action      3940 non-null   object        \n",
      " 6   Duration    3341 non-null   float64       \n",
      "dtypes: datetime64[ns](1), float64(1), int64(3), object(2)\n",
      "memory usage: 246.2+ KB\n"
     ]
    }
   ],
   "source": [
    "customer_journey_df.info()"
   ]
  },
  {
   "cell_type": "code",
   "execution_count": 18,
   "id": "786c0112-757d-4604-83e1-c401b2aa485a",
   "metadata": {},
   "outputs": [
    {
     "data": {
      "text/plain": [
       "(Timestamp('2023-01-01 00:00:00'), Timestamp('2025-12-30 00:00:00'))"
      ]
     },
     "execution_count": 18,
     "metadata": {},
     "output_type": "execute_result"
    }
   ],
   "source": [
    "customer_journey_df['VisitDate'].min() ,customer_journey_df['VisitDate'].max()"
   ]
  },
  {
   "cell_type": "code",
   "execution_count": 19,
   "id": "caa1cf19-cf87-4696-9c9c-533a5cde3c78",
   "metadata": {},
   "outputs": [
    {
     "data": {
      "text/plain": [
       "array(['CHECKOUT', 'PRODUCTPAGE', 'HOMEPAGE'], dtype=object)"
      ]
     },
     "execution_count": 19,
     "metadata": {},
     "output_type": "execute_result"
    }
   ],
   "source": [
    "customer_journey_df.Stage.unique()"
   ]
  },
  {
   "cell_type": "code",
   "execution_count": 20,
   "id": "832f8c00-dd6a-4fe6-b47d-e30cab0e4dae",
   "metadata": {},
   "outputs": [
    {
     "data": {
      "text/plain": [
       "count\n",
       "1741    1\n",
       "1423    1\n",
       "776     1\n",
       "Name: count, dtype: int64"
      ]
     },
     "execution_count": 20,
     "metadata": {},
     "output_type": "execute_result"
    }
   ],
   "source": [
    "stage_frequency = customer_journey_df.Stage.value_counts()\n",
    "stage_frequency.value_counts()"
   ]
  },
  {
   "cell_type": "code",
   "execution_count": 21,
   "id": "1758e14b-e4d3-40d4-bd43-2bd8c336041d",
   "metadata": {},
   "outputs": [],
   "source": [
    "import matplotlib.pyplot as plt"
   ]
  },
  {
   "cell_type": "code",
   "execution_count": 22,
   "id": "690f98fc-ab1f-4d2b-926a-e2ed2db7c018",
   "metadata": {},
   "outputs": [
    {
     "data": {
      "image/png": "[encoded data removed]",
      "text/plain": [
       "<Figure size 640x480 with 1 Axes>"
      ]
     },
     "metadata": {},
     "output_type": "display_data"
    }
   ],
   "source": [
    "plt.bar(x=stage_frequency.index, height=stage_frequency.values)\n",
    "plt.show()"
   ]
  },
  {
   "cell_type": "code",
   "execution_count": 23,
   "id": "d030437d-0bc6-4339-a8a2-2d193b8c7b87",
   "metadata": {},
   "outputs": [],
   "source": [
    "date_2023 = customer_journey_df[(customer_journey_df.VisitDate>='2023-01-01') & (customer_journey_df.VisitDate<='2023-12-31')]\n",
    "date_2024 = customer_journey_df[(customer_journey_df.VisitDate>='2024-01-01') & (customer_journey_df.VisitDate<='2024-12-31')]\n",
    "date_2025 = customer_journey_df[(customer_journey_df.VisitDate>='2025-01-01') & (customer_journey_df.VisitDate<='2025-12-31')]"
   ]
  },
  {
   "cell_type": "code",
   "execution_count": 24,
   "id": "bf25a91f-74d3-470a-8ccd-ebf8169ce601",
   "metadata": {},
   "outputs": [],
   "source": [
    "stg_frq_2023 =date_2023.Stage.value_counts()"
   ]
  },
  {
   "cell_type": "code",
   "execution_count": 25,
   "id": "32290781-23ba-4e14-9c3c-dc58547384a5",
   "metadata": {},
   "outputs": [],
   "source": [
    "stg_frq_2024= date_2024.Stage.value_counts()"
   ]
  },
  {
   "cell_type": "code",
   "execution_count": 26,
   "id": "7faa366e-37c5-456e-8796-b54634543b41",
   "metadata": {},
   "outputs": [],
   "source": [
    "stg_frq_2025=date_2025.Stage.value_counts()"
   ]
  },
  {
   "cell_type": "code",
   "execution_count": 27,
   "id": "5117718c-1ca3-4698-90d6-a96e3ac14380",
   "metadata": {},
   "outputs": [
    {
     "data": {
      "text/plain": [
       "<BarContainer object of 3 artists>"
      ]
     },
     "execution_count": 27,
     "metadata": {},
     "output_type": "execute_result"
    },
    {
     "data": {
      "image/png": "[encoded data removed]",
      "text/plain": [
       "<Figure size 640x480 with 1 Axes>"
      ]
     },
     "metadata": {},
     "output_type": "display_data"
    }
   ],
   "source": [
    "plt.bar(x=stg_frq_2023.index, height=stg_frq_2023.values)"
   ]
  },
  {
   "cell_type": "code",
   "execution_count": 28,
   "id": "a4790c5f-0af0-4d19-9851-167909ddce49",
   "metadata": {},
   "outputs": [
    {
     "data": {
      "text/plain": [
       "<BarContainer object of 3 artists>"
      ]
     },
     "execution_count": 28,
     "metadata": {},
     "output_type": "execute_result"
    },
    {
     "data": {
      "image/png": "[encoded data removed]",
      "text/plain": [
       "<Figure size 640x480 with 1 Axes>"
      ]
     },
     "metadata": {},
     "output_type": "display_data"
    }
   ],
   "source": [
    "plt.bar(x=stg_frq_2024.index, height=stg_frq_2024.values)"
   ]
  },
  {
   "cell_type": "code",
   "execution_count": 29,
   "id": "f701389d-2635-42a3-8821-3983848c57f5",
   "metadata": {},
   "outputs": [
    {
     "data": {
      "text/plain": [
       "<BarContainer object of 3 artists>"
      ]
     },
     "execution_count": 29,
     "metadata": {},
     "output_type": "execute_result"
    },
    {
     "data": {
      "image/png": "[encoded data removed]",
      "text/plain": [
       "<Figure size 640x480 with 1 Axes>"
      ]
     },
     "metadata": {},
     "output_type": "display_data"
    }
   ],
   "source": [
    "plt.bar(x=stg_frq_2025.index, height=stg_frq_2025.values)"
   ]
  },
  {
   "cell_type": "code",
   "execution_count": 30,
   "id": "7bd54dc1-e3c1-4666-b3bf-57005c8f8b07",
   "metadata": {},
   "outputs": [
    {
     "data": {
      "image/png": "[encoded data removed]",
      "text/plain": [
       "<Figure size 800x500 with 1 Axes>"
      ]
     },
     "metadata": {},
     "output_type": "display_data"
    }
   ],
   "source": [
    "import matplotlib.pyplot as plt\n",
    "\n",
    "# Filter the dataframe by year\n",
    "date_2023 = customer_journey_df[(customer_journey_df.VisitDate >= '2023-01-01') & (customer_journey_df.VisitDate <= '2023-12-31')]\n",
    "date_2024 = customer_journey_df[(customer_journey_df.VisitDate >= '2024-01-01') & (customer_journey_df.VisitDate <= '2024-12-31')]\n",
    "date_2025 = customer_journey_df[(customer_journey_df.VisitDate >= '2025-01-01') & (customer_journey_df.VisitDate <= '2025-12-31')]\n",
    "\n",
    "# Calculate the number of visits for each year\n",
    "count_2023 = len(date_2023)\n",
    "count_2024 = len(date_2024)\n",
    "count_2025 = len(date_2025)\n",
    "\n",
    "# Data for plotting\n",
    "years = ['2023', '2024', '2025']\n",
    "counts = [count_2023, count_2024, count_2025]\n",
    "colors = ['blue', 'green', 'red']  # Choose a different color for each year\n",
    "\n",
    "# Create the bar plot\n",
    "plt.figure(figsize=(8, 5))\n",
    "plt.bar(years, counts, color=colors)\n",
    "plt.xlabel('Year')\n",
    "plt.ylabel('Number of Visits')\n",
    "plt.title('Customer Journey Visits per Year')\n",
    "plt.show()\n"
   ]
  },
  {
   "cell_type": "code",
   "execution_count": 31,
   "id": "d5a53f72-2c53-4059-96e1-2a93c205b6bb",
   "metadata": {},
   "outputs": [
    {
     "data": {
      "image/png": "[encoded data removed]",
      "text/plain": [
       "<Figure size 640x480 with 1 Axes>"
      ]
     },
     "metadata": {},
     "output_type": "display_data"
    }
   ],
   "source": [
    "import matplotlib.pyplot as plt\n",
    "\n",
    "# Filter data for each year using the between method for simplicity\n",
    "data_2023 = customer_journey_df[customer_journey_df.VisitDate.between('2023-01-01', '2023-12-31')]\n",
    "data_2024 = customer_journey_df[customer_journey_df.VisitDate.between('2024-01-01', '2024-12-31')]\n",
    "data_2025 = customer_journey_df[customer_journey_df.VisitDate.between('2025-01-01', '2025-12-31')]\n",
    "\n",
    "# Count visits for each year\n",
    "count_2023 = len(data_2023)\n",
    "count_2024 = len(data_2024)\n",
    "count_2025 = len(data_2025)\n",
    "\n",
    "# Prepare data for plotting\n",
    "years = ['2023', '2024', '2025']\n",
    "counts = [count_2023, count_2024, count_2025]\n",
    "colors = ['blue', 'green', 'red']  # Different color for each bar\n",
    "\n",
    "# Create a bar plot\n",
    "plt.bar(years, counts, color=colors)\n",
    "plt.xlabel('Year')\n",
    "plt.ylabel('Number of Visits')\n",
    "plt.title('Customer Journey Visits per Year')\n",
    "plt.show()\n"
   ]
  },
  {
   "cell_type": "code",
   "execution_count": 32,
   "id": "feade82e-ab32-4ef6-8e61-993213c5c87c",
   "metadata": {},
   "outputs": [
    {
     "data": {
      "image/png": "[encoded data removed]",
      "text/plain": [
       "<Figure size 1000x600 with 1 Axes>"
      ]
     },
     "metadata": {},
     "output_type": "display_data"
    }
   ],
   "source": [
    "import numpy as np\n",
    "import matplotlib.pyplot as plt\n",
    "\n",
    "# Sample data (Replace with your actual data)\n",
    "labels = stg_frq_2023.index  # Assuming all years have the same index\n",
    "values_2023 = stg_frq_2023.values\n",
    "values_2024 = stg_frq_2024.values\n",
    "values_2025 = stg_frq_2025.values\n",
    "\n",
    "x = np.arange(len(labels))  # X locations for the groups\n",
    "width = 0.25  # Width of each bar\n",
    "\n",
    "fig, ax = plt.subplots(figsize=(10, 6))\n",
    "\n",
    "# Plot bars side by side\n",
    "bars1 = ax.bar(x - width, values_2023, width, label='2023', hatch='', color='crimson')\n",
    "bars2 = ax.bar(x, values_2024, width, label='2024', color='orange')\n",
    "bars3 = ax.bar(x + width, values_2025, width, label='2025', hatch='', color='royalblue')\n",
    "\n",
    "# Labels, title, and legend\n",
    "ax.set_xlabel(\"Stages\")\n",
    "ax.set_ylabel(\"Frequency\")\n",
    "ax.set_title(\"Stage Frequency Comparison\")\n",
    "ax.set_xticks(x)\n",
    "ax.set_xticklabels(labels)\n",
    "ax.legend()\n",
    "\n",
    "plt.show()"
   ]
  },
  {
   "cell_type": "code",
   "execution_count": 33,
   "id": "10e59a1a-2ddc-4f23-b14f-b1cc32a1506d",
   "metadata": {},
   "outputs": [
    {
     "data": {
      "image/png": "[encoded data removed]",
      "text/plain": [
       "<Figure size 1500x500 with 1 Axes>"
      ]
     },
     "metadata": {},
     "output_type": "display_data"
    }
   ],
   "source": [
    "import matplotlib.pyplot as plt\n",
    "import pandas as pd\n",
    "\n",
    "# Ensure VisitDate is in datetime format\n",
    "customer_journey_df['VisitDate'] = pd.to_datetime(customer_journey_df['VisitDate'])\n",
    "\n",
    "# Filter data for 2023\n",
    "data_2023 = customer_journey_df[(customer_journey_df.VisitDate >= '2023-01-01') & \n",
    "                                  (customer_journey_df.VisitDate <= '2023-12-31')]\n",
    "\n",
    "# Group by each day and count visits\n",
    "daily_counts = data_2023.groupby('VisitDate').size()\n",
    "\n",
    "plt.figure(figsize=(15, 5))\n",
    "plt.bar(daily_counts.index, daily_counts.values, color='blue')\n",
    "plt.xlabel('Date')\n",
    "plt.ylabel('Number of Visits')\n",
    "plt.title('Daily Visits in 2023')\n",
    "plt.xticks(rotation=45)\n",
    "plt.show()\n"
   ]
  },
  {
   "cell_type": "code",
   "execution_count": 34,
   "id": "9f5577f1-95fe-44fb-85a8-53393909afa1",
   "metadata": {},
   "outputs": [
    {
     "name": "stderr",
     "output_type": "stream",
     "text": [
      "C:\\Users\\kk\\AppData\\Local\\Temp\\ipykernel_1716\\3341739544.py:12: SettingWithCopyWarning: \n",
      "A value is trying to be set on a copy of a slice from a DataFrame.\n",
      "Try using .loc[row_indexer,col_indexer] = value instead\n",
      "\n",
      "See the caveats in the documentation: https://pandas.pydata.org/pandas-docs/stable/user_guide/indexing.html#returning-a-view-versus-a-copy\n",
      "  data_2023['Month'] = data_2023['VisitDate'].dt.month\n"
     ]
    },
    {
     "data": {
      "image/png": "[encoded data removed]",
      "text/plain": [
       "<Figure size 800x500 with 1 Axes>"
      ]
     },
     "metadata": {},
     "output_type": "display_data"
    }
   ],
   "source": [
    "import matplotlib.pyplot as plt\n",
    "import pandas as pd\n",
    "\n",
    "# Ensure VisitDate is in datetime format\n",
    "customer_journey_df['VisitDate'] = pd.to_datetime(customer_journey_df['VisitDate'])\n",
    "\n",
    "# Filter data for 2023\n",
    "data_2023 = customer_journey_df[(customer_journey_df.VisitDate >= '2023-01-01') & \n",
    "                                  (customer_journey_df.VisitDate <= '2023-12-31')]\n",
    "\n",
    "# Create a new column for Month\n",
    "data_2023['Month'] = data_2023['VisitDate'].dt.month\n",
    "\n",
    "# Group by Month and count visits\n",
    "monthly_counts = data_2023.groupby('Month').size()\n",
    "\n",
    "plt.figure(figsize=(8, 5))\n",
    "plt.bar(monthly_counts.index, monthly_counts.values, color='green')\n",
    "plt.xlabel('Month')\n",
    "plt.ylabel('Number of Visits')\n",
    "plt.title('Monthly Visits in 2023')\n",
    "plt.xticks(range(1, 13))\n",
    "plt.show()\n"
   ]
  },
  {
   "cell_type": "code",
   "execution_count": 35,
   "id": "f7785c46-557e-40a8-898a-def4e15f538c",
   "metadata": {},
   "outputs": [
    {
     "data": {
      "image/png": "[encoded data removed]",
      "text/plain": [
       "<Figure size 1000x600 with 1 Axes>"
      ]
     },
     "metadata": {},
     "output_type": "display_data"
    }
   ],
   "source": [
    "import matplotlib.pyplot as plt\n",
    "import pandas as pd\n",
    "\n",
    "# Convert the VisitDate column to datetime if it's not already\n",
    "customer_journey_df['VisitDate'] = pd.to_datetime(customer_journey_df['VisitDate'])\n",
    "\n",
    "# Filter data for each year\n",
    "data_2023 = customer_journey_df[(customer_journey_df.VisitDate >= '2023-01-01') & \n",
    "                                  (customer_journey_df.VisitDate <= '2023-12-31')]\n",
    "data_2024 = customer_journey_df[(customer_journey_df.VisitDate >= '2024-01-01') & \n",
    "                                  (customer_journey_df.VisitDate <= '2024-12-31')]\n",
    "data_2025 = customer_journey_df[(customer_journey_df.VisitDate >= '2025-01-01') & \n",
    "                                  (customer_journey_df.VisitDate <= '2025-12-31')]\n",
    "\n",
    "plt.figure(figsize=(10, 6))\n",
    "\n",
    "# Overlay histograms with 30 bins each and alpha transparency so they can be seen together\n",
    "plt.hist(data_2023['VisitDate'], bins=30, color='blue', alpha=0.5, label='2023')\n",
    "plt.hist(data_2024['VisitDate'], bins=30, color='green', alpha=0.5, label='2024')\n",
    "plt.hist(data_2025['VisitDate'], bins=30, color='red', alpha=0.5, label='2025')\n",
    "\n",
    "plt.xlabel('Visit Date')\n",
    "plt.ylabel('Frequency')\n",
    "plt.title('Histogram of Visit Dates by Year')\n",
    "plt.legend()\n",
    "plt.show()\n"
   ]
  }
 ],
 "metadata": {
  "kernelspec": {
   "display_name": "Python 3 (ipykernel)",
   "language": "python",
   "name": "python3"
  },
  "language_info": {
   "codemirror_mode": {
    "name": "ipython",
    "version": 3
   },
   "file_extension": ".py",
   "mimetype": "text/x-python",
   "name": "python",
   "nbconvert_exporter": "python",
   "pygments_lexer": "ipython3",
   "version": "3.12.7"
  }
 },
 "nbformat": 4,
 "nbformat_minor": 5
}
